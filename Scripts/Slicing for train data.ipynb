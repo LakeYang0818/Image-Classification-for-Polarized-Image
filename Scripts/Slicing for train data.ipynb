{
 "cells": [
  {
   "cell_type": "code",
   "execution_count": 1,
   "id": "4057625d",
   "metadata": {},
   "outputs": [],
   "source": [
    "import os\n",
    "import cv2\n",
    "import numpy as np\n",
    "\n",
    "path = \"/Users/pc/Desktop/polarization/\""
   ]
  },
  {
   "cell_type": "code",
   "execution_count": 2,
   "id": "44db17f6",
   "metadata": {},
   "outputs": [],
   "source": [
    "def slice_image(image, slice_size, stride):\n",
    "    height, width, _ = image.shape\n",
    "    slices = []\n",
    "    for y in range(0, height - slice_size + 1, stride):\n",
    "        for x in range(0, width - slice_size + 1, stride):\n",
    "            slice_img = image[y:y+slice_size, x:x+slice_size]\n",
    "            slices.append(slice_img)\n",
    "    return slices\n",
    "\n",
    "def save_slices_to_folder(slices, folder_path, label):\n",
    "    if not os.path.exists(folder_path):\n",
    "        os.makedirs(folder_path)\n",
    "\n",
    "    for i, slice_img in enumerate(slices):\n",
    "        img_path = os.path.join(folder_path, f\"{label}_{i}.png\")\n",
    "        cv2.imwrite(img_path, slice_img)\n"
   ]
  },
  {
   "cell_type": "code",
   "execution_count": 9,
   "id": "367d3567",
   "metadata": {},
   "outputs": [
    {
     "name": "stdout",
     "output_type": "stream",
     "text": [
      "successfully created train and test datasets for material plastic\n",
      "successfully created train and test datasets for material chong\n",
      "successfully created train and test datasets for material metal\n"
     ]
    }
   ],
   "source": [
    "source_image_path = path + \"Polarized Images/Source_Image_polarized.png\"\n",
    "plastic_path      = path + \"Polarized Images/plastic_polarized.png\"\n",
    "chong_path        = path + \"Polarized Images/chongchong_polarized.png\"\n",
    "metal_path        = path + \"Polarized Images/metal_polarized.png\"\n",
    "\n",
    "source_image  = cv2.imread(source_image_path)\n",
    "plastic_image = cv2.imread(plastic_path)\n",
    "chong_image   = cv2.imread(chong_path)\n",
    "metal_image   = cv2.imread(metal_path)\n",
    "\n",
    "types   = {'plastic': plastic_image, \n",
    "           'chong': chong_image, \n",
    "           'metal': metal_image}\n",
    "\n",
    "for type_object in types.keys():\n",
    "    \n",
    "    label = type_object\n",
    "    \n",
    "    # Save slices to the train dataset folder\n",
    "    slice_size_train = 10\n",
    "    stride_train     = 10\n",
    "    slices_train     = slice_image(types[type_object], slice_size_train, stride_train)\n",
    "    train_data_folder = path + \"Image Classification Dataset/\" + \"train/\" + type_object\n",
    "    save_slices_to_folder(slices_train, train_data_folder, label_train)\n",
    "\n",
    "    # Save slices to the test dataset folder\n",
    "    slice_size_test = 10\n",
    "    stride_test     = 20\n",
    "    slices_test     = slice_image(types[type_object], slice_size_test, stride_test)\n",
    "    test_data_folder  = path + \"Image Classification Dataset/\" + \"test/\"  + type_object\n",
    "    save_slices_to_folder(slices_test, test_data_folder, label)\n",
    "    \n",
    "    # Save slices to the validation dataset folder\n",
    "    slice_size_val = 10\n",
    "    stride_val     = 50\n",
    "    slices_val     = slice_image(types[type_object], slice_size_val, stride_val)\n",
    "    val_data_folder   = path + \"Image Classification Dataset/\" + \"val/\"   + type_object\n",
    "    save_slices_to_folder(slices_val, val_data_folder, label)\n",
    "    \n",
    "    print(\"successfully created train and test datasets for material \" + type_object)"
   ]
  },
  {
   "cell_type": "code",
   "execution_count": null,
   "id": "77e54302",
   "metadata": {},
   "outputs": [],
   "source": []
  }
 ],
 "metadata": {
  "kernelspec": {
   "display_name": "Python 3 (ipykernel)",
   "language": "python",
   "name": "python3"
  },
  "language_info": {
   "codemirror_mode": {
    "name": "ipython",
    "version": 3
   },
   "file_extension": ".py",
   "mimetype": "text/x-python",
   "name": "python",
   "nbconvert_exporter": "python",
   "pygments_lexer": "ipython3",
   "version": "3.10.9"
  }
 },
 "nbformat": 4,
 "nbformat_minor": 5
}
