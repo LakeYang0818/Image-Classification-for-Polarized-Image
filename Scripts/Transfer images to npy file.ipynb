{
 "cells": [
  {
   "cell_type": "code",
   "execution_count": 3,
   "id": "69c9b46c",
   "metadata": {},
   "outputs": [],
   "source": [
    "from PIL import Image\n",
    "import numpy as np\n",
    "import cv2\n",
    "\n",
    "path = \"/Users/pc/Desktop/polarization/\"\n",
    "\n",
    "def png_to_npy(input_path, output_path):\n",
    "    try:\n",
    "        # Open the PNG image using PIL\n",
    "        img = Image.open(input_path)\n",
    "        \n",
    "        # Convert the PIL image to a NumPy array\n",
    "        img_array = np.array(img)\n",
    "        \n",
    "        # Save the NumPy array to a .npy file\n",
    "        np.save(output_path, img_array)\n",
    "        \n",
    "        print(\"Conversion successful.\")\n",
    "    except Exception as e:\n",
    "        print(\"Error:\", e)"
   ]
  },
  {
   "cell_type": "code",
   "execution_count": 4,
   "id": "600b24df",
   "metadata": {},
   "outputs": [
    {
     "name": "stdout",
     "output_type": "stream",
     "text": [
      "Conversion successful.\n"
     ]
    }
   ],
   "source": [
    "# Transfer Chong.png to npy file\n",
    "\n",
    "Image_name = \"Source_Image\"\n",
    "\n",
    "input_file_path  = path + \"Image Source/\" + Image_name + \".png\"\n",
    "output_file_path = path + \"Dataset/\"      + Image_name + \".npy\"\n",
    "\n",
    "png_to_npy(input_file_path, output_file_path)\n"
   ]
  },
  {
   "cell_type": "code",
   "execution_count": 5,
   "id": "971ec8e5",
   "metadata": {},
   "outputs": [
    {
     "name": "stdout",
     "output_type": "stream",
     "text": [
      "Conversion successful.\n",
      "Conversion successful.\n",
      "Conversion successful.\n"
     ]
    }
   ],
   "source": [
    "# Dividing the image into three parts: Plastic, Chong, Metal\n",
    "\n",
    "Source_image = cv2.imread(input_file_path)\n",
    "\n",
    "plastic = Source_image[50:-50, 0  :75 , :]\n",
    "chong   = Source_image[50:-50, 175:250, :]\n",
    "metal   = Source_image[50:-50, -75:-1 , :]\n",
    "\n",
    "plastic_path = path + \"Image Source/\" + \"plastic.png\"\n",
    "chong_path   = path + \"Image Source/\" + \"chong.png\"\n",
    "metal_path   = path + \"Image Source/\" + \"metal.png\"\n",
    "\n",
    "cv2.imwrite(path + \"Image Source/\" + \"plastic.png\", plastic)\n",
    "cv2.imwrite(path + \"Image Source/\" + \"chong.png\",   chong)\n",
    "cv2.imwrite(path + \"Image Source/\" + \"metal.png\",   metal)\n",
    "\n",
    "# Transfering the three material images into npy files.\n",
    "\n",
    "png_to_npy(plastic_path, path + \"Dataset/\" + \"plastic.npy\")\n",
    "png_to_npy(chong_path  , path + \"Dataset/\" + \"chong.npy\")\n",
    "png_to_npy(metal_path  , path + \"Dataset/\" + \"metal.npy\")\n"
   ]
  }
 ],
 "metadata": {
  "kernelspec": {
   "display_name": "Python 3 (ipykernel)",
   "language": "python",
   "name": "python3"
  },
  "language_info": {
   "codemirror_mode": {
    "name": "ipython",
    "version": 3
   },
   "file_extension": ".py",
   "mimetype": "text/x-python",
   "name": "python",
   "nbconvert_exporter": "python",
   "pygments_lexer": "ipython3",
   "version": "3.10.9"
  }
 },
 "nbformat": 4,
 "nbformat_minor": 5
}
