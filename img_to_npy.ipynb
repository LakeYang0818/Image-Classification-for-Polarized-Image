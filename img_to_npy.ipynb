{
 "cells": [
  {
   "cell_type": "code",
   "execution_count": 11,
   "id": "69c9b46c",
   "metadata": {},
   "outputs": [
    {
     "name": "stdout",
     "output_type": "stream",
     "text": [
      "Conversion successful.\n"
     ]
    }
   ],
   "source": [
    "from PIL import Image\n",
    "import numpy as np\n",
    "\n",
    "path = \"/Users/pc/Desktop/polarization/\"\n",
    "\n",
    "def png_to_npy(input_path, output_path):\n",
    "    try:\n",
    "        # Open the PNG image using PIL\n",
    "        img = Image.open(input_path)\n",
    "        \n",
    "        # Convert the PIL image to a NumPy array\n",
    "        img_array = np.array(img)\n",
    "        \n",
    "        # Save the NumPy array to a .npy file\n",
    "        np.save(output_path, img_array)\n",
    "        \n",
    "        print(\"Conversion successful.\")\n",
    "    except Exception as e:\n",
    "        print(\"Error:\", e)\n",
    "\n",
    "# Example usage:\n",
    "input_file_path  = path + \"dataset/Chong.png\"\n",
    "output_file_path = path + \"Polar/Chong.npy\"\n",
    "png_to_npy(input_file_path, output_file_path)\n"
   ]
  },
  {
   "cell_type": "code",
   "execution_count": null,
   "id": "600b24df",
   "metadata": {},
   "outputs": [],
   "source": []
  }
 ],
 "metadata": {
  "kernelspec": {
   "display_name": "Python 3 (ipykernel)",
   "language": "python",
   "name": "python3"
  },
  "language_info": {
   "codemirror_mode": {
    "name": "ipython",
    "version": 3
   },
   "file_extension": ".py",
   "mimetype": "text/x-python",
   "name": "python",
   "nbconvert_exporter": "python",
   "pygments_lexer": "ipython3",
   "version": "3.10.9"
  }
 },
 "nbformat": 4,
 "nbformat_minor": 5
}
