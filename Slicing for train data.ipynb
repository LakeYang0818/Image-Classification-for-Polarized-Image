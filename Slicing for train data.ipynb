{
 "cells": [
  {
   "cell_type": "code",
   "execution_count": 1,
   "id": "4057625d",
   "metadata": {},
   "outputs": [],
   "source": [
    "import os\n",
    "import cv2\n",
    "import numpy as np\n",
    "\n",
    "path = \"/Users/pc/Desktop/polarization/\"\n",
    "\n",
    "def slice_image(image, slice_size, stride):\n",
    "    height, width, _ = image.shape\n",
    "    slices = []\n",
    "    for y in range(0, height - slice_size + 1, stride):\n",
    "        for x in range(0, width - slice_size + 1, stride):\n",
    "            slice_img = image[y:y+slice_size, x:x+slice_size]\n",
    "            slices.append(slice_img)\n",
    "    return slices\n",
    "\n",
    "def save_slices_to_folder(slices, folder_path, label):\n",
    "    if not os.path.exists(folder_path):\n",
    "        os.makedirs(folder_path)\n",
    "\n",
    "    for i, slice_img in enumerate(slices):\n",
    "        img_path = os.path.join(folder_path, f\"{label}_{i}.png\")\n",
    "        cv2.imwrite(img_path, slice_img)\n",
    "\n",
    "# 读取原始图片\n",
    "image_path = path + \"dataset/chongchong_polarized.png\"\n",
    "image = cv2.imread(image_path)\n",
    "\n",
    "plastic_img = image[:, 0:50, :]\n",
    "chong_img   = image[:, 150:200, :]\n",
    "metal_img   = image[:, 250:, :]\n",
    "types   = {'plastic': plastic_img, 'chong': chong_img, 'metal': metal_img}\n",
    "\n",
    "for type_object in types.keys():\n",
    "    \n",
    "    # 定义切片大小和步幅\n",
    "    slice_size = 10\n",
    "    stride = 10\n",
    "    slices = slice_image(types[type_object], slice_size, stride)\n",
    "    label  = type_object\n",
    "\n",
    "    # 保存切片到训练数据文件夹\n",
    "    #train_data_folder = path + \"train/\" + type_object + \"/train\"\n",
    "    #save_slices_to_folder(slices, train_data_folder, label)\n",
    "\n",
    "\n",
    "    # 保存切片到训练数据文件夹\n",
    "    test_data_folder = path + str(type_object) + \"/test\"\n",
    "    save_slices_to_folder(slices, test_data_folder, label)\n"
   ]
  },
  {
   "cell_type": "code",
   "execution_count": null,
   "id": "44db17f6",
   "metadata": {},
   "outputs": [],
   "source": []
  }
 ],
 "metadata": {
  "kernelspec": {
   "display_name": "Python 3 (ipykernel)",
   "language": "python",
   "name": "python3"
  },
  "language_info": {
   "codemirror_mode": {
    "name": "ipython",
    "version": 3
   },
   "file_extension": ".py",
   "mimetype": "text/x-python",
   "name": "python",
   "nbconvert_exporter": "python",
   "pygments_lexer": "ipython3",
   "version": "3.10.9"
  }
 },
 "nbformat": 4,
 "nbformat_minor": 5
}
